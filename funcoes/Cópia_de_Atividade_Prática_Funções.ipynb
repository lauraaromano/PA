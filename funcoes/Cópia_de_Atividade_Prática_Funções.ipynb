{
  "nbformat": 4,
  "nbformat_minor": 0,
  "metadata": {
    "colab": {
      "provenance": [],
      "include_colab_link": true
    },
    "kernelspec": {
      "name": "python3",
      "display_name": "Python 3"
    },
    "language_info": {
      "name": "python"
    }
  },
  "cells": [
    {
      "cell_type": "markdown",
      "metadata": {
        "id": "view-in-github",
        "colab_type": "text"
      },
      "source": [
        "<a href=\"https://colab.research.google.com/github/lauraaromano/PA/blob/main/C%C3%B3pia_de_Atividade_Pr%C3%A1tica_Fun%C3%A7%C3%B5es.ipynb\" target=\"_parent\"><img src=\"https://colab.research.google.com/assets/colab-badge.svg\" alt=\"Open In Colab\"/></a>"
      ]
    },
    {
      "cell_type": "markdown",
      "source": [
        "# 1) com parâmetro e com retorno:\n",
        "Você foi encarregado de criar um programa para calcular o valor total de uma compra em um supermercado. Crie uma função chamada calcular_total_compra que receba como parâmetro uma lista de preços dos itens comprados e retorne o valor total a ser pago.\n",
        "\n",
        "No programa principal:\n",
        "\n",
        "Peça ao usuário para informar quantos itens ele comprou.\n",
        "Para cada item, solicite o preço e armazene em uma lista.\n",
        "Chame a função e exiba o valor total da compra.\n",
        "\n",
        "Na saída do programa deverá ser assim:\n",
        "\n",
        "Quantos itens você comprou? 3\n",
        "Digite o preço do item 1: 10.50\n",
        "Digite o preço do item 2: 5.20\n",
        "Digite o preço do item 3: 8.30\n",
        "O valor total da compra é: R$ 24.00"
      ],
      "metadata": {
        "id": "X-afxPH41Pqt"
      }
    },
    {
      "cell_type": "code",
      "execution_count": null,
      "metadata": {
        "id": "-SEJ2Kw_1LmL"
      },
      "outputs": [],
      "source": [
        "def calcular_total_compra(precos):\n",
        "  total = sum(precos)\n",
        "  return total"
      ]
    },
    {
      "cell_type": "code",
      "source": [
        "qntd = int(input(\"Quantidade de produtos: \"))\n",
        "precos = []\n",
        "\n",
        "for i in range(qntd):\n",
        "  preco = float(input(\"Preço do produto: \"))\n",
        "  precos.append(preco)"
      ],
      "metadata": {
        "colab": {
          "base_uri": "https://localhost:8080/"
        },
        "id": "DvVlwuZz_PCc",
        "outputId": "ced6c2c4-f472-4a58-bd03-cd3defef265e"
      },
      "execution_count": null,
      "outputs": [
        {
          "name": "stdout",
          "output_type": "stream",
          "text": [
            "Quantidade de produtos: 3\n",
            "Preço do produto: 10.50\n",
            "Preço do produto: 5.20\n",
            "Preço do produto: 8.30\n"
          ]
        }
      ]
    },
    {
      "cell_type": "code",
      "source": [
        "total = calcular_total_compra(precos)\n",
        "print(\"O valor total da compra é:\", total)"
      ],
      "metadata": {
        "colab": {
          "base_uri": "https://localhost:8080/"
        },
        "id": "dfDhirxQ_PsF",
        "outputId": "fd7b5fd7-935e-4195-a139-9ea32c2f9e05"
      },
      "execution_count": null,
      "outputs": [
        {
          "output_type": "stream",
          "name": "stdout",
          "text": [
            "O valor total da compra é: 24.0\n"
          ]
        }
      ]
    },
    {
      "cell_type": "markdown",
      "source": [
        "# 2) Função Sem parâmetro e com retorno\n",
        "Você está organizando uma eleição fictícia com três candidatos. Crie uma função chamada realizar_votacao que:\n",
        "\n",
        "Solicite ao usuário que vote em um dos três candidatos, identificados por números (1, 2 ou 3).\n",
        "Permita que a votação continue até que o usuário digite 0 para encerrar.\n",
        "Ao final, exiba o número total de votos para cada candidato.\n",
        "A função não deve receber parâmetros nem retornar valores; apenas realizar a votação e exibir os resultados no final.\n",
        "\n",
        "Vote no seu candidato:\n",
        "1 - Candidato A\n",
        "2 - Candidato B\n",
        "3 - Candidato C\n",
        "Digite 0 para encerrar.\n",
        "Seu voto: 1\n",
        "Seu voto: 3\n",
        "Seu voto: 2\n",
        "Seu voto: 3\n",
        "Seu voto: 0\n",
        "\n",
        "Resultado da votação:\n",
        "Candidato A: 1 voto(s)\n",
        "Candidato B: 1 voto(s)\n",
        "Candidato C: 2 voto(s)"
      ],
      "metadata": {
        "id": "AkGiC1tI1bSM"
      }
    },
    {
      "cell_type": "code",
      "source": [
        "def realizar_votacao():\n",
        "    votos_candidato_1 = 0\n",
        "    votos_candidato_2 = 0\n",
        "    votos_candidato_3 = 0\n",
        "    while True:\n",
        "        voto = int(input(\"Seu voto (1, 2, 3 para candidatos ou 0 para encerrar): \"))\n",
        "        if voto == 0:\n",
        "            break\n",
        "        elif voto == 1:\n",
        "            votos_candidato_1 += 1\n",
        "        elif voto == 2:\n",
        "            votos_candidato_2 += 1\n",
        "        elif voto == 3:\n",
        "            votos_candidato_3 += 1\n",
        "        else:\n",
        "            print(\"Voto inválido. Digite um número entre 0 e 3.\")\n",
        "    return votos_candidato_1, votos_candidato_2, votos_candidato_3\n",
        "\n",
        "votos_a, votos_b, votos_c = realizar_votacao()\n",
        "\n",
        "print(\"Resultado da votação:\")\n",
        "print(\"Candidato A:\", votos_a, \"voto(s)\")\n",
        "print(\"Candidato B:\", votos_b, \"voto(s)\")\n",
        "print(\"Candidato C:\", votos_c, \"voto(s)\")"
      ],
      "metadata": {
        "colab": {
          "base_uri": "https://localhost:8080/"
        },
        "id": "rz2XkDQ7IzpS",
        "outputId": "e965ccf7-e816-4556-d052-b4057dc86bda"
      },
      "execution_count": null,
      "outputs": [
        {
          "output_type": "stream",
          "name": "stdout",
          "text": [
            "Seu voto (1, 2, 3 para candidatos ou 0 para encerrar): 1\n",
            "Seu voto (1, 2, 3 para candidatos ou 0 para encerrar): 2\n",
            "Seu voto (1, 2, 3 para candidatos ou 0 para encerrar): 3\n",
            "Seu voto (1, 2, 3 para candidatos ou 0 para encerrar): 3\n",
            "Seu voto (1, 2, 3 para candidatos ou 0 para encerrar): 0\n",
            "Resultado da votação:\n",
            "Candidato A: 1 voto(s)\n",
            "Candidato B: 1 voto(s)\n",
            "Candidato C: 2 voto(s)\n"
          ]
        }
      ]
    }
  ]
}