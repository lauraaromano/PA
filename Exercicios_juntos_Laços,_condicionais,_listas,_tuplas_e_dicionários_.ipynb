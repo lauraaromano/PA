{
  "nbformat": 4,
  "nbformat_minor": 0,
  "metadata": {
    "colab": {
      "provenance": []
    },
    "kernelspec": {
      "name": "python3",
      "display_name": "Python 3"
    },
    "language_info": {
      "name": "python"
    }
  },
  "cells": [
    {
      "cell_type": "markdown",
      "source": [
        "Lista de Exercícios unindo tudo que foi ensinado até o momento:\n",
        "\n",
        "\n",
        "*   Condicionais\n",
        "*   Laços de Reptição\n",
        "*   Listas\n",
        "*   Tuplas\n",
        "*   Dicionários\n",
        "*   Manipulação de Strings\n",
        "\n",
        "\n",
        "\n",
        "\n",
        "\n"
      ],
      "metadata": {
        "id": "JsFcwNObBRcd"
      }
    },
    {
      "cell_type": "code",
      "source": [],
      "metadata": {
        "id": "113SoI-N8abD"
      },
      "execution_count": null,
      "outputs": []
    },
    {
      "cell_type": "code",
      "source": [],
      "metadata": {
        "id": "of41bYz0ZYBW"
      },
      "execution_count": null,
      "outputs": []
    },
    {
      "cell_type": "markdown",
      "source": [
        "# Tuplas - Acesso e Desempacotamento\n",
        "\n",
        "1) Crie uma tupla contendo três tipos diferentes de dados: um número, uma string e uma lista. Use um laço de repetição para acessar e imprimir cada item da tupla. Além disso, dentro do laço, acesse e imprima o segundo item da lista que está dentro da tupla."
      ],
      "metadata": {
        "id": "HM91bKpkBqGI"
      }
    },
    {
      "cell_type": "code",
      "source": [
        "dados = (24, \"Cíntia\",[1,2,3])\n",
        "\n",
        "for i in dados:\n",
        "  print(i)\n",
        "  if type(i) == list:\n",
        "    print(i[1])\n"
      ],
      "metadata": {
        "colab": {
          "base_uri": "https://localhost:8080/"
        },
        "id": "sCbCOqPVYeRv",
        "outputId": "e01e8c28-21db-427d-d39d-d1fbb0c409e7"
      },
      "execution_count": null,
      "outputs": [
        {
          "output_type": "stream",
          "name": "stdout",
          "text": [
            "24\n",
            "Cíntia\n",
            "[1, 2, 3]\n",
            "2\n"
          ]
        }
      ]
    },
    {
      "cell_type": "code",
      "source": [],
      "metadata": {
        "colab": {
          "base_uri": "https://localhost:8080/"
        },
        "id": "pZ8TJ7EFYsjg",
        "outputId": "421ac61c-a610-4c30-e322-382b944de8df"
      },
      "execution_count": null,
      "outputs": [
        {
          "output_type": "execute_result",
          "data": {
            "text/plain": [
              "tuple"
            ]
          },
          "metadata": {},
          "execution_count": 2
        }
      ]
    },
    {
      "cell_type": "markdown",
      "source": [
        "# Dicionários - Criação e Acesso\n",
        "## Cadastro de Pessoas e Análise de Alturas\n",
        "2) Solicite ao usuário para inserir o nome e a altura de várias pessoas. Preencha um dicionário com essas informações e depois encontre e imprima o nome e a altura da pessoa mais alta e da mais baixa."
      ],
      "metadata": {
        "id": "6vEHxGtjBxMi"
      }
    },
    {
      "cell_type": "code",
      "source": [
        "pessoas = {}\n",
        "\n",
        "for x in range(int(input(\"Quantas pessoas você quer inserir? \"))):\n",
        "    nome = input(\"Digite o nome: \")\n",
        "    altura = float(input(\"Digite a altura: \"))\n",
        "    pessoas[nome] = altura\n",
        "\n",
        "\n",
        "mais_alta = max(pessoas, key=pessoas.get)\n",
        "mais_baixa = min(pessoas, key=pessoas.get)\n",
        "\n",
        "print(f\"Pessoa mais alta: {mais_alta} com {pessoas[mais_alta]} metros.\")\n",
        "print(f\"Pessoa mais baixa: {mais_baixa} com {pessoas[mais_baixa]} metros.\")\n",
        "\n",
        "\n",
        "\n",
        "\n",
        "\n"
      ],
      "metadata": {
        "id": "MpJYauvTZR69",
        "outputId": "cb23af26-5490-4b79-bfe4-e566ac820aa6",
        "colab": {
          "base_uri": "https://localhost:8080/"
        }
      },
      "execution_count": null,
      "outputs": [
        {
          "output_type": "stream",
          "name": "stdout",
          "text": [
            "Quantas pessoas você quer inserir? 3\n",
            "Digite o nome: laura\n",
            "Digite a altura: 1.2\n",
            "Digite o nome: lara\n",
            "Digite a altura: 3.2\n",
            "Digite o nome: leo\n",
            "Digite a altura: 4.5\n",
            "Pessoa mais alta: leo com 4.5 metros.\n",
            "Pessoa mais baixa: laura com 1.2 metros.\n"
          ]
        }
      ]
    },
    {
      "cell_type": "markdown",
      "source": [
        "# Lista, laços e Condicionais\n",
        "3) Descrição: Crie uma listacom cinco números inteiros. Use um laço de repetição e uma condicional para imprimir apenas os números que são múltiplos de 3."
      ],
      "metadata": {
        "id": "FytD4QZyELAt"
      }
    },
    {
      "cell_type": "code",
      "source": [
        "lista = [1,2,3,4,9]\n",
        "\n",
        "for i in lista:\n",
        "  if i % 3 == 0:\n",
        "    print(i)"
      ],
      "metadata": {
        "id": "oPmIlYFFuCQT",
        "outputId": "184da1f8-fc16-447b-e2b7-01d1b4e742b3",
        "colab": {
          "base_uri": "https://localhost:8080/"
        }
      },
      "execution_count": null,
      "outputs": [
        {
          "output_type": "stream",
          "name": "stdout",
          "text": [
            "3\n",
            "9\n"
          ]
        }
      ]
    },
    {
      "cell_type": "markdown",
      "source": [
        "# Manipulação de Strings e Condicionais\n",
        "4) Descrição: Crie uma string com uma frase. Use uma condicional para verificar se a frase contém a palavra \"Python\". Se sim, substitua a palavra \"Python\" por \"programação\" e imprima a nova frase."
      ],
      "metadata": {
        "id": "hwn3Fz8aEYSH"
      }
    },
    {
      "cell_type": "code",
      "source": [
        "frase = \"Estamos tendo aula de Python\"\n",
        "\n",
        "if \"Python\" in frase:\n",
        "  frase = frase.replace(\"Python\", \"programação\")\n",
        "  print(frase)"
      ],
      "metadata": {
        "id": "uzJdhlHEuX7V",
        "outputId": "aca292ee-1a85-4c73-c28d-2d8f2ef3c099",
        "colab": {
          "base_uri": "https://localhost:8080/"
        }
      },
      "execution_count": null,
      "outputs": [
        {
          "output_type": "stream",
          "name": "stdout",
          "text": [
            "Estamos tendo aula de programação\n"
          ]
        }
      ]
    },
    {
      "cell_type": "markdown",
      "source": [
        "# Simulação de Alfândega com Cadastro Dinâmico de Itens usando dicionário\n",
        "5) Simule uma situação de alfândega onde o funcionário cadastra itens novos encontrados na mala de uma pessoa que veio de uma viagem internacional. Após o cadastro de todos os itens, o programa imprime uma nota com todos os itens e seus preços, calcula o valor total e, se o valor total ultrapassar 500 dólares, calcula o valor de 60% a ser pago."
      ],
      "metadata": {
        "id": "hPP-JNTxEwFT"
      }
    },
    {
      "cell_type": "code",
      "source": [
        "\n",
        "itens = {}\n",
        "\n",
        "\n",
        "while True:\n",
        "    nome_item = input(\"Digite o nome do item (ou 'sair' para finalizar): \")\n",
        "    if nome_item.lower() == 'sair':\n",
        "        break\n",
        "    preco_item = float(input(f\"Digite o preço de {nome_item}: \"))\n",
        "    itens[nome_item] = preco_item\n",
        "\n",
        "\n",
        "print(\"\\n--- Nota Fiscal ---\")\n",
        "valor_total = 0\n",
        "for item, preco in itens.items():\n",
        "    print(f\"{item}: ${preco:.2f}\")\n",
        "    valor_total += preco\n",
        "\n",
        "print(f\"\\nValor total: ${valor_total:.2f}\")\n",
        "\n",
        "\n",
        "if valor_total > 500:\n",
        "    taxa = (valor_total - 500) * 0.60\n",
        "    print(f\"Valor excedente: ${valor_total - 500:.2f}\")\n",
        "    print(f\"Taxa a ser paga (60% sobre o excedente): ${taxa:.2f}\")\n",
        "else:\n",
        "    print(\"Nenhuma taxa a ser paga, o valor total está dentro do limite de isenção de $500.\")\n",
        "\n",
        "\n",
        "\n",
        "\n",
        "\n",
        "\n",
        "\n",
        "\n",
        "\n"
      ],
      "metadata": {
        "id": "4iYPSNDAu1-R",
        "outputId": "1d66510d-414c-4709-c16b-75e6753e1959",
        "colab": {
          "base_uri": "https://localhost:8080/"
        }
      },
      "execution_count": null,
      "outputs": [
        {
          "output_type": "stream",
          "name": "stdout",
          "text": [
            "Digite o nome do item (ou 'sair' para finalizar): meia\n",
            "Digite o preço de meia: 23\n",
            "Digite o nome do item (ou 'sair' para finalizar): calça\n",
            "Digite o preço de calça: 3000\n",
            "Digite o nome do item (ou 'sair' para finalizar): sair\n",
            "\n",
            "--- Nota Fiscal ---\n",
            "meia: $23.00\n",
            "calça: $3000.00\n",
            "\n",
            "Valor total: $3023.00\n",
            "Valor excedente: $2523.00\n",
            "Taxa a ser paga (60% sobre o excedente): $1513.80\n"
          ]
        }
      ]
    },
    {
      "cell_type": "markdown",
      "source": [
        "# Identificação de Palavras Negativas em um Texto\n",
        "6) Você vai criar um programa em Python para analisar um texto e identificar palavras que expressam pensamentos negativos. Para isso, você usará uma lista de palavras negativas fornecida e verificará quais dessas palavras estão presentes no texto fornecido pelo usuário. Exemplo de palavras negtivas, acrescente mais na lista: # Lista de palavras negativas palavras_negativas = ['triste', 'deprimido', 'ansioso', 'desapontado', 'frustrado']"
      ],
      "metadata": {
        "id": "OH8D047zVsp-"
      }
    },
    {
      "cell_type": "code",
      "source": [
        "palavras_negativas = ['triste', 'deprimido', 'ansioso', 'desapontado', 'frustrado']\n",
        "\n",
        "texto = \"Estou triste porque estou ansioso\"\n",
        "\n",
        "\n",
        "for palavra in palavras_negativas:\n",
        "  if palavra in texto:\n",
        "    print(\"O texto contém palavras negativas\")\n",
        "\n",
        "\n",
        "\n"
      ],
      "metadata": {
        "id": "xDSrYWf_Vr8G",
        "outputId": "4072a9eb-08c5-4058-aa8b-1dc449d5ccdc",
        "colab": {
          "base_uri": "https://localhost:8080/"
        }
      },
      "execution_count": null,
      "outputs": [
        {
          "output_type": "stream",
          "name": "stdout",
          "text": [
            "O texto contém palavras negativas\n",
            "O texto contém palavras negativas\n"
          ]
        }
      ]
    },
    {
      "cell_type": "code",
      "source": [
        "# 1 - Use o método len para imprimir o comprimento da string.\n",
        "x = \"Hello World\"\n",
        "print(  x  )\n",
        "len(x)"
      ],
      "metadata": {
        "id": "fn8xKiuBZZcr"
      },
      "execution_count": null,
      "outputs": []
    },
    {
      "cell_type": "code",
      "source": [
        "# 2 - Obtenha o primeiro caractere da string txt.\n",
        "txt = 'Hello World'\n",
        "\n",
        "print(txt)\n",
        "txt[0]"
      ],
      "metadata": {
        "id": "2i8HDTpTZbR9"
      },
      "execution_count": null,
      "outputs": []
    },
    {
      "cell_type": "code",
      "source": [
        "# 3 - Obtenha os caracteres do índice 2 ao índice 4 ( llo).\n",
        "txt = \"Hello World\"\n",
        "print(txt)\n",
        "txt[2:5]"
      ],
      "metadata": {
        "id": "DAVKh2OVZc9T"
      },
      "execution_count": null,
      "outputs": []
    },
    {
      "cell_type": "code",
      "source": [
        "# 4 - Converta o valor de txt para maiúsculas.\n",
        "txt = \"Hello World\"\n",
        "txt.upper()"
      ],
      "metadata": {
        "id": "tVa5SFhWZeYj"
      },
      "execution_count": null,
      "outputs": []
    },
    {
      "cell_type": "code",
      "source": [
        "# 5 - Conte quantas vezes aparece a palavra \"de\" na string abaixo\n",
        "txt = \"Eu gosto de vijar, tomar vinho, de estudar estudar programação, de estudar Pyhon\"\n",
        "txt.count(\"de\")"
      ],
      "metadata": {
        "id": "DZLh-wCxZf5M"
      },
      "execution_count": null,
      "outputs": []
    },
    {
      "cell_type": "code",
      "source": [
        "# 6 - Separe a frase abaixo toda vez que encontrar um vírgula\n",
        "txt = \"Eu gosto de vijar, tomar vinho, de estudar estudar programação, de estudar Pyhon\"\n",
        "txt.split(',')"
      ],
      "metadata": {
        "id": "CZTA4sebZhcE"
      },
      "execution_count": null,
      "outputs": []
    },
    {
      "cell_type": "code",
      "source": [
        "#7 - Peça ao usuário uma frase e substitua todas as ocorrências de espaço por “#”.\n",
        "frase = input(\"Digite uma frase: \")\n",
        "frase.replace(\" \", \"#\")"
      ],
      "metadata": {
        "id": "3nLuU6WnZirM"
      },
      "execution_count": null,
      "outputs": []
    },
    {
      "cell_type": "code",
      "source": [
        "# 8 - Faça um programa que retorne True se duas strings lidas do teclado são palíndromas mútuas, ou seja, se uma é igual à outra quando lida de traz para frente ou False, se não forem.\n",
        "# Por exemplo: amor e roma\n",
        "amor= \"amor\"\n",
        "roma=\"roma\"\n",
        "\n",
        "\n",
        "print(amor == roma[::-1])"
      ],
      "metadata": {
        "id": "iyLywfAzZj_k"
      },
      "execution_count": null,
      "outputs": []
    },
    {
      "cell_type": "code",
      "source": [
        "# 9- Faça um programa que leia o nome do usuário e mostre o nome de traz para frente, utilizando somente letras maiúsculas.\n",
        "nome= input(\"Digite seu nome:\")\n",
        "\n",
        "nome.upper()[::-1]"
      ],
      "metadata": {
        "id": "V8vk2y2bZldA"
      },
      "execution_count": null,
      "outputs": []
    }
  ]
}